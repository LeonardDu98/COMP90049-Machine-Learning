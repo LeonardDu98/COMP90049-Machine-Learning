{
 "cells": [
  {
   "cell_type": "markdown",
   "metadata": {},
   "source": [
    "# Assignment 2: Income Prediction based on U.S. Census data"
   ]
  },
  {
   "cell_type": "markdown",
   "metadata": {},
   "source": [
    "Student Name:\n",
    "\n",
    "Student ID:"
   ]
  },
  {
   "cell_type": "markdown",
   "metadata": {},
   "source": [
    "# General Info\n",
    "\n",
    "<b>Due date</b>: Friday, 16 Apr 2021 5pm\n",
    "\n",
    "<b>Submission method</b>: Canvas submission\n",
    "\n",
    "<b>Submission materials</b>: completed copy of this iPython notebook\n",
    "\n",
    "<b>Late submissions</b>: -10% per day (both week and weekend days counted)\n",
    "\n",
    "<b>Marks</b>: 15% of mark for class \n",
    "\n",
    "<b>Materials</b>: See [Using Jupyter Notebook and Python page](https://canvas.lms.unimelb.edu.au/courses/105477/pages/python-and-jupyter-notebooks?module_item_id=2613813) on Canvas (under Modules>Resources) for information on the basic setup required for this class, including an iPython notebook viewer and some handy python packages including Numpy, Scipy, Matplotlib, Scikit-Learn, and Gensim. You can use any Python built-in packages, but do not use any other 3rd party packages (the packages listed above are all fine to use); if your iPython notebook doesn't run on the marker's machine, you will lose marks. <b> You should use Python 3</b>.  \n",
    "\n",
    "<b>Evaluation</b>: Your iPython notebook should run end-to-end without any errors in a reasonable amount of time, and you must follow all instructions provided below, including specific implementation requirements and instructions for what needs to be printed (please avoid printing output we don't ask for). You should edit the sections below where requested, but leave the rest of the code as is. You should leave the output from running your code in the iPython notebook you submit, to assist with marking. The amount each section is worth is given in parenthesis after the instructions. \n",
    "\n",
    "You should be careful to use Python built-in functions and operators when appropriate and pick descriptive variable names that adhere to <a href=\"https://www.python.org/dev/peps/pep-0008/\">Python style requirements</a>. If you think it might be unclear what you are doing, you should comment your code to help the marker make sense of it. While the main focus is on correctness of your methods, you will lose marks if your code is not understandable.\n",
    "\n",
    "<b>Updates</b>: Any major changes to the assignment will be announced via Canvas. Minor changes and clarifications will be announced on the discussion board; we recommend you check it regularly.\n",
    "\n",
    "<b>Academic misconduct</b>: For most people, collaboration will form a natural part of the undertaking of this homework, and we encourge you to discuss it in general terms with other students. However, this ultimately is still an individual task, and so reuse of code or other instances of clear influence will be considered cheating. We will be checking submissions for originality and will invoke the University’s <a href=\"http://academichonesty.unimelb.edu.au/policy.html\">Academic Misconduct policy</a> where inappropriate levels of collusion or plagiarism are deemed to have taken place.\n"
   ]
  },
  {
   "cell_type": "markdown",
   "metadata": {},
   "source": [
    "## Overview\n",
    "\n",
    "In this assignment, you will be working with the famous *Adult* a data set containing demographic and income data from the united states in 1994. The dataset provided for this assignment is derived from <a href=\"http://archive.ics.uci.edu/ml/datasets/Adult\">this</a> resource. The data set consists of about 48,000 individuals each characterized through a set of 14 attributes. Your task is to predict whether the individual earns up to \\\\$ 50,000 a year (<=50K) or more than \\\\$50,000 per year (>50K).\n",
    "\n",
    "The attributes are\n",
    "\n",
    "|ID|Feature Name| Feature Type | Feature Values|\n",
    "| :-| :-| :-| :-|\n",
    "|0|age| continuous| |\n",
    "|1|workclass| categorical | Private, Self-emp-not-inc, Self-emp-inc, Federal-gov, Local-gov, State-gov, ?|\n",
    "|2|fnlwgt| continuous| |\n",
    "|3|education|  categorical |Bachelors, Some-college, 11th, HS-grad, Prof-school, Assoc-acdm, Assoc-voc, 9th, 7th-8th, 12th, Masters, 1st-4th, 10th, Doctorate, 5th-6th, Preschool|\n",
    "|4|education-num| continuous| |\n",
    "|5|marital-status|  categorical |Married-civ-spouse, Divorced, Never-married, Separated, Widowed, Married-spouse-absent, Married-AF-spouse|\n",
    "|6|occupation|  categorical |Tech-support, Craft-repair, Other-service, Sales, Exec-managerial, Prof-specialty, Handlers-cleaners, Machine-op-inspct, Adm-clerical, Farming-fishing, Transport-moving, Priv-house-serv, Protective-serv, Armed-Forces, ?|\n",
    "|7|relationship|  categorical |Wife, Own-child, Husband, Not-in-family, Other-relative, Unmarried|\n",
    "|8|race|  categorical |White, Asian-Pac-Islander, Amer-Indian-Eskimo, Other, Black|\n",
    "|9|sex|  categorical |Female, Male|\n",
    "|10|capital-gain| continuous| |\n",
    "|11|capital-loss| continuous| |\n",
    "|12|hours-per-week| continuous| |\n",
    "|13|native-country|  categorical |United-States, Cambodia, England, Puerto-Rico, Canada, Germany, India, Japan, Greece, South, China, Cuba, Iran, Honduras, Philippines, Italy, Poland, Jamaica, Vietnam, Mexico, Portugal, Ireland, France, Dominican-Republic, Laos, Ecuador, Taiwan, Haiti, Columbia, Hungary, Guatemala, Nicaragua, Scotland, Thailand, Yugoslavia, El-Salvador, Trinadad&Tobago, Peru, Hong, ?|\n",
    "\n",
    "You can find out more about the individual attributes / values, and the origin of the data set in the <a href=\"https://archive.ics.uci.edu/ml/machine-learning-databases/adult/adult.names\"> data set description</a>  \n",
    "\n",
    "\n",
    "You will build a number of classifiers to predict the income class based on the attributes above.\n",
    "\n",
    "\n",
    "#### The following instructions hold for every question in the assignment\n",
    "- leave the order of instances intact, i.e., do not shuffle the data\n",
    "- do not change the names or types of variables provided by us in the code cells below\n",
    "- '?' denotes an unknown value, and you should treat it as just another value for its feature in all tasks below."
   ]
  },
  {
   "cell_type": "markdown",
   "metadata": {},
   "source": [
    "## Question 1: Loading and pre-processing the data (1 mark)\n",
    "\n",
    "You were provide two data files:\n",
    "\n",
    "**adult.train** contains about 32,000 training instances, one instance per line in comma-separated value (csv) format. Each line contains 15 fields. The first 14 fields correspond to the features listed above, the final field denotes the class label\n",
    "\n",
    "**adult.test** is formatted exactly like adult.train, and contains about 16,000 further instances for evaluation.\n"
   ]
  },
  {
   "cell_type": "markdown",
   "metadata": {},
   "source": [
    "### 1a Read the data [0.5 marks]\n",
    "\n",
    "First, you will read in the data and create traing features, training labels, test features and test labels. Do not apply any data transformations."
   ]
  },
  {
   "cell_type": "code",
   "execution_count": 23,
   "metadata": {},
   "outputs": [
    {
     "data": {
      "text/plain": [
       "(32525, 32525, 16262, 16262, 14, 14)"
      ]
     },
     "execution_count": 23,
     "metadata": {},
     "output_type": "execute_result"
    }
   ],
   "source": [
    "# load data\n",
    "\n",
    "\n",
    "data = open(\"adult.train\",'r').readlines()\n",
    "test_data = open(\"adult.test\",'r').readlines()\n",
    "\n",
    "x_train = []\n",
    "y_train = []\n",
    "x_test = []\n",
    "y_test = []\n",
    "\n",
    "############################\n",
    "## your code begins here\n",
    "############################\n",
    "\n",
    "for dataLine in data:\n",
    "    dataLine = dataLine.replace(\"\\n\", \"\")\n",
    "    splitData = dataLine.split(\", \")\n",
    "    x_train.append(splitData[0 : -1])\n",
    "    y_train.append(splitData[-1])\n",
    "    \n",
    "for dataLine in test_data:\n",
    "    dataLine = dataLine.replace(\"\\n\", \"\")\n",
    "    splitData = dataLine.split(\", \")\n",
    "    x_test.append(splitData[0 : -1])\n",
    "    y_test.append(splitData[-1])\n",
    "\n",
    "############################\n",
    "## your code ends here\n",
    "############################\n",
    "\n",
    "len(x_train), len(y_train), len(x_test), len(y_test), len(x_train[0]), len(x_test[0])\n",
    "\n",
    "# import pandas as pd\n",
    "# pd.DataFrame(data)\n",
    "# data[0].replace(\"\\n\", \"\")\n",
    "# data[0][:-1].split(\", \")[0:14] # x\n",
    "# data[0][:-1].split(\", \")[-1] # y"
   ]
  },
  {
   "cell_type": "code",
   "execution_count": 124,
   "metadata": {},
   "outputs": [
    {
     "data": {
      "text/plain": [
       "[array(['?', 'Federal-gov', 'Local-gov', 'Private', 'Self-emp-inc',\n",
       "        'Self-emp-not-inc', 'State-gov'], dtype=object),\n",
       " array(['10th', '11th', '12th', '1st-4th', '5th-6th', '7th-8th', '9th',\n",
       "        'Assoc-acdm', 'Assoc-voc', 'Bachelors', 'Doctorate', 'HS-grad',\n",
       "        'Masters', 'Preschool', 'Prof-school', 'Some-college'],\n",
       "       dtype=object),\n",
       " array(['Divorced', 'Married-AF-spouse', 'Married-civ-spouse',\n",
       "        'Married-spouse-absent', 'Never-married', 'Separated', 'Widowed'],\n",
       "       dtype=object),\n",
       " array(['?', 'Adm-clerical', 'Armed-Forces', 'Craft-repair',\n",
       "        'Exec-managerial', 'Farming-fishing', 'Handlers-cleaners',\n",
       "        'Machine-op-inspct', 'Other-service', 'Priv-house-serv',\n",
       "        'Prof-specialty', 'Protective-serv', 'Sales', 'Tech-support',\n",
       "        'Transport-moving'], dtype=object),\n",
       " array(['Husband', 'Not-in-family', 'Other-relative', 'Own-child',\n",
       "        'Unmarried', 'Wife'], dtype=object),\n",
       " array(['Amer-Indian-Eskimo', 'Asian-Pac-Islander', 'Black', 'Other',\n",
       "        'White'], dtype=object),\n",
       " array(['Female', 'Male'], dtype=object),\n",
       " array(['?', 'Cambodia', 'Canada', 'China', 'Columbia', 'Cuba',\n",
       "        'Dominican-Republic', 'Ecuador', 'El-Salvador', 'England',\n",
       "        'France', 'Germany', 'Greece', 'Guatemala', 'Haiti', 'Honduras',\n",
       "        'Hong', 'Hungary', 'India', 'Iran', 'Ireland', 'Italy', 'Jamaica',\n",
       "        'Japan', 'Laos', 'Mexico', 'Nicaragua', 'Peru', 'Philippines',\n",
       "        'Poland', 'Portugal', 'Puerto-Rico', 'Scotland', 'South', 'Taiwan',\n",
       "        'Thailand', 'Trinadad&Tobago', 'United-States', 'Vietnam',\n",
       "        'Yugoslavia'], dtype=object)]"
      ]
     },
     "execution_count": 124,
     "metadata": {},
     "output_type": "execute_result"
    }
   ],
   "source": [
    "#pd.DataFrame(x_train).drop([1, 3, 5, 6, 7, 8, 9, 13], axis = 1).to_numpy()\n",
    "temp = pd.DataFrame(x_train).drop([0, 2, 4, 10 ,11 ,12], axis = 1)\n",
    "from sklearn.preprocessing import OneHotEncoder\n",
    "ohe = OneHotEncoder()\n",
    "ohe.fit(temp)\n",
    "ohe.categories_\n",
    "#ohe.transform(temp).toarray()"
   ]
  },
  {
   "cell_type": "code",
   "execution_count": 142,
   "metadata": {},
   "outputs": [],
   "source": [
    "temp = pd.DataFrame(x_train).drop([0, 2, 4, 10 ,11 ,12], axis = 1)\n",
    "feature_names_one_hot = pd.get_dummies(temp).columns\n"
   ]
  },
  {
   "cell_type": "code",
   "execution_count": 34,
   "metadata": {},
   "outputs": [
    {
     "data": {
      "text/plain": [
       "'39'"
      ]
     },
     "execution_count": 34,
     "metadata": {},
     "output_type": "execute_result"
    }
   ],
   "source": [
    "x_train[0][0]"
   ]
  },
  {
   "cell_type": "markdown",
   "metadata": {},
   "source": [
    "<b>For your testing:</b>"
   ]
  },
  {
   "cell_type": "code",
   "execution_count": 24,
   "metadata": {},
   "outputs": [],
   "source": [
    "assert len(x_train)==len(y_train)==32525\n",
    "assert len(x_train[0])==len(x_test[0])==14"
   ]
  },
  {
   "cell_type": "markdown",
   "metadata": {},
   "source": [
    "### 1b: Attribute Types [0.5 marks]\n",
    "\n",
    "You will create three feature representations, based on the different attribute types (categorical, numeric) in the original *Adult* data.\n",
    "\n",
    "**Your tasks**\n",
    "\n",
    "Denote with $I$ the number of training instances; $N$ the number of numeric features in the data set; and $v_f$ the number of possible values for feature $f$.\n",
    "\n",
    "1. Create a train data set with only numeric features `x_train_num` (size $(I\\times N)$); and equivaluently a test data set `x_test_num`\n",
    "2. Create a train data set with only categorical features *in a 1-hot representation* `x_train_1hot` (size $(I\\times\\sum_f v_f)$); and equivalently a test data set `x_test_1hot`\n",
    "3. Create a train data set with both numeric and 1-hot categorical features `x_train_full` (size $I \\times N+\\sum_f v_f$) where the first $N$ columns represent the numerical features and the remaining columns the categorical features; and equivalently a test data set `x_test_full`\n",
    "\n",
    "**Note:** You may use classes and functions from ```scikit-learn```.\n",
    "\n"
   ]
  },
  {
   "cell_type": "code",
   "execution_count": 53,
   "metadata": {},
   "outputs": [],
   "source": [
    "x_train_num = []\n",
    "x_test_num = []\n",
    "\n",
    "x_train_1hot = []\n",
    "x_test_1hot = []\n",
    "\n",
    "x_train_full = []\n",
    "x_test_full = []\n",
    "\n",
    "################################\n",
    "### Your code begins here ######\n",
    "################################\n",
    "\n",
    "# del 1, 3, 5, 6, 7, 8, 9, 13\n",
    "x_train_num = pd.DataFrame(x_train).drop([1, 3, 5, 6, 7, 8, 9, 13], axis = 1).to_numpy()\n",
    "x_test_num = pd.DataFrame(x_test).drop([1, 3, 5, 6, 7, 8, 9, 13], axis = 1).to_numpy()\n",
    "\n",
    "# del 0, 2, 4, 10 ,11 ,12\n",
    "\n",
    "x_train_1hot = pd.get_dummies(pd.DataFrame(x_train).drop([0, 2, 4, 10 ,11 ,12], axis = 1)).to_numpy()\n",
    "x_test_1hot = pd.get_dummies(pd.DataFrame(x_test).drop([0, 2, 4, 10 ,11 ,12], axis = 1)).to_numpy()\n",
    "\n",
    "import numpy as np\n",
    "x_train_full = np.append(x_train_num, x_train_1hot, axis = 1)\n",
    "x_test_full = np.append(x_test_num, x_test_1hot, axis = 1)\n",
    "################################\n",
    "### Your code ends here ########\n",
    "################################\n",
    "\n"
   ]
  },
  {
   "cell_type": "code",
   "execution_count": 57,
   "metadata": {},
   "outputs": [
    {
     "data": {
      "text/plain": [
       "array(['39', '77516', '13', '2174', '0', '40', 0, 0, 0, 0, 0, 0, 1, 0, 0,\n",
       "       0, 0, 0, 0, 0, 0, 0, 1, 0, 0, 0, 0, 0, 0, 0, 0, 0, 0, 1, 0, 0, 0,\n",
       "       1, 0, 0, 0, 0, 0, 0, 0, 0, 0, 0, 0, 0, 0, 0, 1, 0, 0, 0, 0, 0, 0,\n",
       "       0, 0, 1, 0, 1, 0, 0, 0, 0, 0, 0, 0, 0, 0, 0, 0, 0, 0, 0, 0, 0, 0,\n",
       "       0, 0, 0, 0, 0, 0, 0, 0, 0, 0, 0, 0, 0, 0, 0, 0, 0, 0, 0, 0, 1, 0,\n",
       "       0], dtype=object)"
      ]
     },
     "execution_count": 57,
     "metadata": {},
     "output_type": "execute_result"
    }
   ],
   "source": [
    "x_train_full[0]"
   ]
  },
  {
   "cell_type": "markdown",
   "metadata": {},
   "source": [
    "<b> For your testing</b>"
   ]
  },
  {
   "cell_type": "code",
   "execution_count": 56,
   "metadata": {},
   "outputs": [],
   "source": [
    "assert len(x_train_1hot[0])==98\n",
    "assert len(x_train_full[0])==104"
   ]
  },
  {
   "cell_type": "markdown",
   "metadata": {},
   "source": [
    "## Question 2: A 0-R baseline [0.5 marks]\n",
    "\n",
    "Implement a zero-r baseline, as introduced in the Evaluation lecture."
   ]
  },
  {
   "cell_type": "code",
   "execution_count": 82,
   "metadata": {},
   "outputs": [
    {
     "name": "stdout",
     "output_type": "stream",
     "text": [
      "The marority class is: <=50K\n"
     ]
    }
   ],
   "source": [
    "from collections import Counter\n",
    "\n",
    "majority_class = \"\"\n",
    "zero_r_predictions = []\n",
    "\n",
    "############################\n",
    "## your code begins here\n",
    "############################\n",
    "majority_class = Counter(y_train).most_common(1)[0][0]\n",
    "\n",
    "# for i in range(len(y_test)):\n",
    "#     zero_r_predictions.append(majority_class)\n",
    "\n",
    "temp = pd.DataFrame(y_test)\n",
    "temp['zero_r_predictions'] = majority_class\n",
    "zero_r_predictions = temp['zero_r_predictions'].values.tolist()\n",
    "\n",
    "\n",
    "############################\n",
    "## your code ends here\n",
    "############################\n",
    "\n",
    "print(f\"The marority class is: {majority_class}\")\n"
   ]
  },
  {
   "cell_type": "code",
   "execution_count": 83,
   "metadata": {},
   "outputs": [],
   "source": [
    "# Counter(y_train).most_common(1)[0][0]\n",
    "# zero_r_predictions.values.tolist()"
   ]
  },
  {
   "cell_type": "markdown",
   "metadata": {},
   "source": [
    "## Question 3: Feature selection [2 marks]\n",
    "\n",
    "In this question you will implement pointwise mutual information (PMI) for feature selection (Question 3a)\n",
    "\n",
    "In question 3a. you will use the implemented function to create a 1-R classifier based on the single 1-hot attribute  (i.e., categorical feature value) with highest PMI for class \">50K\". \n",
    "```\n",
    "argmax_a pmi(a=1,c=\">50K\")\n",
    "```\n",
    "In question 3b. you will apply your 1-R classifier to the test instances, and store your predicted labels in `one_r_predictions`.\n",
    "\n",
    "<b> You should implement PMI from scratch yourself. You may use native Python libraries like math or numpy to help you, but you may not use existing implementations of PMI.</b>\n",
    "\n"
   ]
  },
  {
   "cell_type": "markdown",
   "metadata": {},
   "source": [
    "### 3a. Implement PMI [1 mark]\n",
    "\n",
    "Implement a function to compute PMI.\n"
   ]
  },
  {
   "cell_type": "code",
   "execution_count": 112,
   "metadata": {},
   "outputs": [],
   "source": [
    "'''\n",
    "PMI: A function to compute the pointwise mutual information between \n",
    "all features in the data set and a target class of interest\n",
    "Input: - features for N input instances\n",
    "       - labels for N input instances\n",
    "       - target feature value (default=1)\n",
    "       - target class (fdefault='>50K')\n",
    "Output: a dictionary of the form {feature: ppmi} where each \n",
    "        feature is denoted by its ID (position in the 1-hot encoded representatoin)\n",
    "\n",
    "'''\n",
    "\n",
    "############################\n",
    "## your code begins here\n",
    "############################\n",
    "\n",
    "def pmi(features, labels, tgt_value=1, tgt_class=\">50K\"):\n",
    "    import math\n",
    "    pmis = {}\n",
    "    all_data = pd.DataFrame(np.append(pd.DataFrame(features), pd.DataFrame(labels), axis = 1))\n",
    "    labels_count = all_data.iloc[:, -1].value_counts()[tgt_class]\n",
    "    label_prob = labels_count / len(all_data)\n",
    "    \n",
    "    # column loop\n",
    "    for i in range(len(features[0])):\n",
    "        feature_count = all_data.iloc[:, i].value_counts()[tgt_value]\n",
    "        feature_prob = feature_count / len(all_data)\n",
    "        \n",
    "        both_true_count = 0\n",
    "        # instance loop\n",
    "        for j in range(len(features)):\n",
    "            if all_data.iloc[j][i] == tgt_value and all_data.iloc[j][len(all_data.columns) - 1] == tgt_class:\n",
    "                both_true_count += 1\n",
    "        both_true_prob = both_true_count / len(all_data)\n",
    "        \n",
    "        if both_true_prob == 0:\n",
    "            pmis[all_data.columns[i]] = float(\"-inf\")\n",
    "        elif label_prob * feature_prob == 0:\n",
    "            pmis[all_data.columns[i]] = float(\"inf\")\n",
    "        else:\n",
    "            pmis[all_data.columns[i]] = math.log2(both_true_prob / (label_prob * feature_prob))\n",
    "                \n",
    "        \n",
    "    return pmis\n",
    "\n",
    "\n",
    "############################\n",
    "## your code ends here\n",
    "############################\n"
   ]
  },
  {
   "cell_type": "code",
   "execution_count": 131,
   "metadata": {},
   "outputs": [],
   "source": [
    "temp = pmi(x_train_1hot, y_train)"
   ]
  },
  {
   "cell_type": "code",
   "execution_count": 132,
   "metadata": {},
   "outputs": [],
   "source": [
    "pmi_one_hot_final = temp"
   ]
  },
  {
   "cell_type": "code",
   "execution_count": 106,
   "metadata": {},
   "outputs": [
    {
     "data": {
      "text/plain": [
       "<=50K    24684\n",
       ">50K      7841\n",
       "Name: 0, dtype: int64"
      ]
     },
     "execution_count": 106,
     "metadata": {},
     "output_type": "execute_result"
    }
   ],
   "source": [
    "pd.DataFrame(y_train).iloc[:, 0].value_counts()\n",
    "# all_data = pd.DataFrame(np.append(pd.DataFrame(x_train_1hot), pd.DataFrame(y_train), axis = 1))\n",
    "# all_data.groupby([0, 98]).size()[1]['>50K']"
   ]
  },
  {
   "cell_type": "markdown",
   "metadata": {},
   "source": [
    "<b>For your testing:</b>"
   ]
  },
  {
   "cell_type": "code",
   "execution_count": 127,
   "metadata": {},
   "outputs": [],
   "source": [
    "test_features = [[1,1], [1,0], [0,1], [0,0]]\n",
    "test_labels = [1,1,0,0]\n",
    "test_pmi = pmi(test_features, test_labels, tgt_class=1)\n",
    "\n",
    "# where the index 0 refers to \"feature 1\" and index 1 refers to \"feature 2\"\n",
    "assert test_pmi[0]==1.0\n",
    "assert test_pmi[1]==0.0"
   ]
  },
  {
   "cell_type": "markdown",
   "metadata": {},
   "source": [
    "### 3b Create 1-R baseline [1 mark]\n",
    "\n",
    "- Apply your PMI function to the *1_hot feature representation* of training data, and determine the (i) 1-hot feature with *highest* PMI with class '>50K' () and (ii) 1-hot feature with *lowest* (most negative) PMI with class '>50K'. Store the name (string) of the corresponding highest/lowest PMI features in `highest_pmi_feature_name` and `lowest_pmi_feature_name`, respectively.\n",
    "\n",
    "- The feature with *highest* PMI will consitute your 1-R predictor, which you should use to predict the class labels for the test set (`one_r_predictions`)"
   ]
  },
  {
   "cell_type": "code",
   "execution_count": 152,
   "metadata": {},
   "outputs": [
    {
     "name": "stdout",
     "output_type": "stream",
     "text": [
      "['<=50K', '<=50K', '<=50K', '<=50K', '<=50K', '<=50K', '<=50K', '<=50K', '<=50K', '<=50K']\n",
      "The feature with highest PMI for the class '>50K' is: 3_Doctorate\n",
      "The feature with lowest PMI for the class '>50K' is: 3_Preschool\n"
     ]
    }
   ],
   "source": [
    "one_r_predictions = []\n",
    "\n",
    "highest_pmi_feature_name = \"\" # feature with highest PMI\n",
    "lowest_pmi_feature_name = \"\" # feature with lowest PMI\n",
    "\n",
    "############################\n",
    "## your code begins here\n",
    "############################\n",
    "def get_key(dic, value):\n",
    "    for k, v in dic.items():\n",
    "        if v == value:\n",
    "            return k\n",
    "## log(0) = -inf       \n",
    "highest_pmi_index = get_key(pmi_one_hot_final, max(pmi_one_hot_final.values()))\n",
    "highest_pmi_feature_name = feature_names_one_hot[highest_pmi_index]\n",
    "lowest_pmi_feature_name = feature_names_one_hot[get_key(pmi_one_hot_final, min(pmi_one_hot_final.values()))]\n",
    "\n",
    "one_label = \"\"\n",
    "zero_label = \"\"\n",
    "\n",
    "all_data = pd.DataFrame(np.append(pd.DataFrame(x_train_1hot), pd.DataFrame(y_train), axis = 1))\n",
    "highest_pmi_count = all_data.groupby([highest_pmi_index, len(all_data.columns) - 1]).size()\n",
    "\n",
    "if highest_pmi_count[0]['<=50K'] > highest_pmi_count[0]['>50K']:\n",
    "    zero_label = '<=50K'\n",
    "else:\n",
    "    zero_label = '>50K'\n",
    "    \n",
    "if highest_pmi_count[1]['<=50K'] > highest_pmi_count[1]['>50K']:\n",
    "    one_label = '<=50K'\n",
    "else:\n",
    "    one_label = '>50K'\n",
    "\n",
    "for oneLine in x_test_1hot:\n",
    "    if oneLine[highest_pmi_index] == 1:\n",
    "        one_r_predictions.append(one_label)\n",
    "    else:\n",
    "        one_r_predictions.append(zero_label)\n",
    "\n",
    "############################\n",
    "## your code ends here\n",
    "############################\n",
    "\n",
    "print(one_r_predictions[:10])\n",
    "print(f\"The feature with highest PMI for the class '>50K' is: {highest_pmi_feature_name}\")\n",
    "print(f\"The feature with lowest PMI for the class '>50K' is: {lowest_pmi_feature_name}\")"
   ]
  },
  {
   "cell_type": "code",
   "execution_count": 148,
   "metadata": {},
   "outputs": [
    {
     "data": {
      "text/plain": [
       "98\n",
       "<=50K    24577\n",
       ">50K      7535\n",
       "dtype: int64"
      ]
     },
     "execution_count": 148,
     "metadata": {},
     "output_type": "execute_result"
    }
   ],
   "source": [
    "highest_pmi_feature_name = get_key(pmi_one_hot_final, max(pmi_one_hot_final.values()))\n",
    "feature_names_one_hot[17]\n",
    "highest_pmi_index = get_key(pmi_one_hot_final, max(pmi_one_hot_final.values()))\n",
    "all_data = pd.DataFrame(np.append(pd.DataFrame(x_train_1hot), pd.DataFrame(y_train), axis = 1))\n",
    "all_data.groupby([highest_pmi_index, len(all_data.columns) - 1]).size()[0]"
   ]
  },
  {
   "cell_type": "code",
   "execution_count": 154,
   "metadata": {},
   "outputs": [
    {
     "data": {
      "text/plain": [
       "Counter({'<=50K': 16081, '>50K': 181})"
      ]
     },
     "execution_count": 154,
     "metadata": {},
     "output_type": "execute_result"
    }
   ],
   "source": [
    "Counter(one_r_predictions)"
   ]
  },
  {
   "cell_type": "code",
   "execution_count": 141,
   "metadata": {},
   "outputs": [
    {
     "data": {
      "text/plain": [
       "{0: -1.2124820233779183,\n",
       " 1: 0.6808242730124259,\n",
       " 2: 0.29089903490261737,\n",
       " 3: -0.139951209667085,\n",
       " 4: 1.2090889503015558,\n",
       " 5: 0.24167259742381805,\n",
       " 6: 0.17500110101962157,\n",
       " 7: -1.8560015551717777,\n",
       " 8: -2.2378866055013926,\n",
       " 9: -1.6613896033681306,\n",
       " 10: -2.7549154300574634,\n",
       " 11: -2.3269388750711215,\n",
       " 12: -1.9565492912271139,\n",
       " 13: -2.1954880214434445,\n",
       " 14: 0.04429631869152662,\n",
       " 15: 0.11575261849905341,\n",
       " 16: 0.7838403559457594,\n",
       " 17: 1.6198293632733474,\n",
       " 18: -0.5940670979891165,\n",
       " 19: 1.2071195107933237,\n",
       " 20: -inf,\n",
       " 21: 1.6070283436777781,\n",
       " 22: -0.33933298475460044,\n",
       " 23: -1.2087111180647157,\n",
       " 24: 0.8508056308304904,\n",
       " 25: 0.8914529714876676,\n",
       " 26: -1.5640012401941834,\n",
       " 27: -2.38871290636816,\n",
       " 28: -1.9045745830342142,\n",
       " 29: -1.4909108190486453,\n",
       " 30: -1.2124820233779183,\n",
       " 31: -0.8409188889439114,\n",
       " 32: -1.1174855094421714,\n",
       " 33: -0.0880257216172062,\n",
       " 34: 1.0069794730432278,\n",
       " 35: -1.0504376886401616,\n",
       " 36: -1.9391482681836592,\n",
       " 37: -0.9475605079998591,\n",
       " 38: -2.5338387361636814,\n",
       " 39: -5.16672902846202,\n",
       " 40: 0.8980326170596128,\n",
       " 41: 0.43146401270818724,\n",
       " 42: 0.16020166275623976,\n",
       " 43: 0.339116739704451,\n",
       " 44: -0.26497312176472826,\n",
       " 45: 0.8965047001998139,\n",
       " 46: -1.2244675924197288,\n",
       " 47: -2.67474508137348,\n",
       " 48: -4.185537380669371,\n",
       " 49: -1.927988359959914,\n",
       " 50: 0.9834340443500005,\n",
       " 51: -1.0584062766881495,\n",
       " 52: 0.14137322042042888,\n",
       " 53: -0.9563871997668127,\n",
       " 54: -1.385853359579006,\n",
       " 55: 0.08721479854202127,\n",
       " 56: -1.1370665448929695,\n",
       " 57: 0.3441916149896826,\n",
       " 58: 0.05491197767966182,\n",
       " 59: 0.6118669006141594,\n",
       " 60: 0.4189784735877949,\n",
       " 61: 0.14554889639162244,\n",
       " 62: -2.8302035573617004,\n",
       " 63: 0.1264400734439179,\n",
       " 64: -3.076843524944825,\n",
       " 65: -0.7549154300574633,\n",
       " 66: -1.5055559611207459,\n",
       " 67: 0.46747699127898457,\n",
       " 68: 0.7794209975937247,\n",
       " 69: 0.4138390276769114,\n",
       " 70: 0.1944584968725686,\n",
       " 71: -2.362598007278703,\n",
       " 72: -1.4069921266371563,\n",
       " 73: -1.6480002261409512,\n",
       " 74: 0.3154738978339344,\n",
       " 75: -0.0630377254197952,\n",
       " 76: 0.7305113971127787,\n",
       " 77: 0.7960997387403553,\n",
       " 78: -0.2105949138336528,\n",
       " 79: 0.5064711228948482,\n",
       " 80: -0.9654824159971214,\n",
       " 81: 0.6832056823344218,\n",
       " 82: -1.1174855094421714,\n",
       " 83: -2.2318413159693526,\n",
       " 84: -2.035023349250199,\n",
       " 85: -1.9017568183867342,\n",
       " 86: 0.36112501010665077,\n",
       " 87: -0.2694886028872214,\n",
       " 88: -1.157013873628809,\n",
       " 89: -1.1954880214434447,\n",
       " 90: 0.052439492000140905,\n",
       " 91: -0.26948860288722154,\n",
       " 92: 0.7019422449160077,\n",
       " 93: -0.5325230087210154,\n",
       " 94: -1.1954880214434447,\n",
       " 95: 0.029189831281396413,\n",
       " 96: -1.6917216035702691,\n",
       " 97: 0.6374019927212968}"
      ]
     },
     "execution_count": 141,
     "metadata": {},
     "output_type": "execute_result"
    }
   ],
   "source": [
    "pmi_one_hot_final"
   ]
  },
  {
   "cell_type": "markdown",
   "metadata": {},
   "source": [
    "## Question 4: Naive Bayes [3 marks]\n",
    "\n",
    "We will construct three Naive Bayes classifiers\n",
    "\n",
    "1. One for instances with only 1-hot encoded (binary) categorical attributes.\n",
    "2. One for instances with only numerical attributes.\n",
    "3. One for instances with the full set of numerical *and* categorical attributes, ensuring that your classifier computes posterior class probabilities $p(y|x)$ as $p(x|y)p(y)$.\n",
    "\n",
    "For each classifier, you will \n",
    "1. Train it on the training set\n",
    "2. Use the models to predict labels for the test set\n"
   ]
  },
  {
   "cell_type": "markdown",
   "metadata": {},
   "source": [
    "### 4a Implementing the Naive Bayes classifiers [1.5 marks]\n",
    "\n",
    "Implement three functions which train a NB classifier given the specified input feature types and predict labels for a given test set.\n",
    "\n",
    "You may add additional quantities to your `return` statements.\n",
    "\n",
    "<b> You may (and are, indeed, encouraged) to, use the existing NB implementations from `sklearn`. You should use the default parameterizations of these algorithms.</b> \n",
    "    \n",
    "If you choose to implement your classifiers from scratch, please use Laplace smoothing (alpha=1) for the categorical feature NB.\n"
   ]
  },
  {
   "cell_type": "code",
   "execution_count": 160,
   "metadata": {},
   "outputs": [],
   "source": [
    "\n",
    "##################################\n",
    "## your code begins here\n",
    "##################################\n",
    "\n",
    "from sklearn.naive_bayes import BernoulliNB\n",
    "from sklearn.naive_bayes import GaussianNB\n",
    "\n",
    "def nb_binary_features(train_features, train_labels, test_features):\n",
    "    predictions = []\n",
    "    BN = BernoulliNB()\n",
    "    BN.fit(train_features, train_labels)\n",
    "    predictions = BN.predict(test_features)\n",
    "    return predictions\n",
    "\n",
    "\n",
    "def nb_continuous_features(train_features, train_labels, test_features):\n",
    "    predictions = []\n",
    "    GN = GaussianNB()\n",
    "    GN.fit(train_features, train_labels)\n",
    "    predictions = GN.predict(test_features)\n",
    "    return predictions\n",
    "\n",
    "\n",
    "def nb_full(train_features, train_labels, test_features):    \n",
    "    predictions = []\n",
    "    \n",
    "    # 6 magic number\n",
    "    binary_train = train_features[:, : 6]\n",
    "    gaussian_train = train_features[:, 6: -1]\n",
    "    binary_test = test_features[:, : 6]\n",
    "    gaussian_test = test_features[:, 6: -1]\n",
    "    \n",
    "    NB=BernoulliNB()\n",
    "    NB.fit(binary_train, train_labels)\n",
    "    GB=GaussianNB()\n",
    "    GB.fit(gaussian_train, train_labels)\n",
    "    \n",
    "    NB_train_prob = NB.predict_proba(binary_train)\n",
    "    GB_train_prob = GB.predict_proba(gaussian_train)\n",
    "    \n",
    "    \n",
    "    NB_test_prob = NB.predict_proba(binary_test)\n",
    "    GB_test_prob = GB.predict_proba(gaussian_test)\n",
    "    \n",
    "    X_new_train = np.c_[(NB_train_prob[:,1], GB_train_prob[:,1])]\n",
    "    X_new_test = np.c_[(NB_test_prob[:,1], GB_test_prob[:,1])]\n",
    "    \n",
    "    model = GaussianNB()\n",
    "    full = model.fit(X_new_train, y_train)\n",
    "    predictions = model.predict(X_new_test)\n",
    "    \n",
    "    return predictions\n",
    "\n",
    "\n",
    "\n",
    "\n",
    "############################\n",
    "## your code ends here\n",
    "############################\n"
   ]
  },
  {
   "cell_type": "markdown",
   "metadata": {},
   "source": [
    "### 4b Apply your classifiers to the data sets you created in Questions 1 and 3b [0.5 marks]\n",
    "\n",
    "...namely, the\n",
    "\n",
    "1. 1-hot categorical features `x_{train,test}_1hot`\n",
    "2. numerical features `x_{train,test}_num`\n",
    "3. combined numerical and 1-hot categorical features `x_{train,test}_full`\n"
   ]
  },
  {
   "cell_type": "code",
   "execution_count": 161,
   "metadata": {},
   "outputs": [
    {
     "name": "stdout",
     "output_type": "stream",
     "text": [
      "Numerical NB predicted class distribution \t Counter({'<=50K': 14440, '>50K': 1822})\n",
      "Categorical NB predicted class distribution\t Counter({'<=50K': 10046, '>50K': 6216})\n",
      "Full NB predicted class distribution\t Counter({'<=50K': 14395, '>50K': 1867})\n"
     ]
    }
   ],
   "source": [
    "from collections import Counter\n",
    "\n",
    "############################\n",
    "## your code begins here\n",
    "############################\n",
    "\n",
    "categorical_nb_predictions = nb_binary_features(x_train_1hot, y_train, x_test_1hot)\n",
    "numeric_nb_predictions = nb_continuous_features(x_train_num, y_train, x_test_num)\n",
    "full_nb_predictions = nb_full(x_train_full, y_train, x_test_full)\n",
    "\n",
    "\n",
    "############################\n",
    "## your code ends here\n",
    "############################\n",
    "\n",
    "print(f\"Numerical NB predicted class distribution \\t {Counter(numeric_nb_predictions)}\")\n",
    "print(f\"Categorical NB predicted class distribution\\t {Counter(categorical_nb_predictions)}\")\n",
    "print(f\"Full NB predicted class distribution\\t {Counter(full_nb_predictions)}\")\n"
   ]
  },
  {
   "cell_type": "markdown",
   "metadata": {},
   "source": [
    "\n",
    "### 4c Explain your Naive Bayes classifier implementation on the full attribute set (numerical and binary features). [1 mark]\n",
    "\n",
    "Please limit your answer to 2-3 sentences\n"
   ]
  },
  {
   "cell_type": "markdown",
   "metadata": {},
   "source": [
    "_Your answer here_"
   ]
  },
  {
   "cell_type": "markdown",
   "metadata": {},
   "source": [
    "## Question 5: Logistic Regression [2.5 marks]\n",
    "\n",
    "Apply a Logistic Regression classifier to the full training data set (`x_{train,test}_full`)\n",
    "\n",
    "<b> Use the existing implementation in sklearn with default parameters. </b>"
   ]
  },
  {
   "cell_type": "markdown",
   "metadata": {},
   "source": [
    "### 5a The Logistic Regression classifier [0.5 marks]"
   ]
  },
  {
   "cell_type": "code",
   "execution_count": 162,
   "metadata": {},
   "outputs": [
    {
     "name": "stdout",
     "output_type": "stream",
     "text": [
      "LR predicted class distribution\t Counter({'<=50K': 14837, '>50K': 1425})\n"
     ]
    }
   ],
   "source": [
    "from sklearn.linear_model import LogisticRegression\n",
    "\n",
    "lr_predictions = []\n",
    "\n",
    "############################\n",
    "## your code begins here\n",
    "############################\n",
    "lr = LogisticRegression()\n",
    "lr.fit(x_train_full, y_train)\n",
    "lr_predictions = lr.predict(x_test_full)\n",
    "\n",
    "############################\n",
    "## your code ends here\n",
    "############################\n",
    "\n",
    "print(f\"LR predicted class distribution\\t {Counter(lr_predictions)}\")"
   ]
  },
  {
   "cell_type": "code",
   "execution_count": 174,
   "metadata": {},
   "outputs": [
    {
     "data": {
      "text/html": [
       "<div>\n",
       "<style scoped>\n",
       "    .dataframe tbody tr th:only-of-type {\n",
       "        vertical-align: middle;\n",
       "    }\n",
       "\n",
       "    .dataframe tbody tr th {\n",
       "        vertical-align: top;\n",
       "    }\n",
       "\n",
       "    .dataframe thead th {\n",
       "        text-align: right;\n",
       "    }\n",
       "</style>\n",
       "<table border=\"1\" class=\"dataframe\">\n",
       "  <thead>\n",
       "    <tr style=\"text-align: right;\">\n",
       "      <th></th>\n",
       "      <th>0</th>\n",
       "      <th>1</th>\n",
       "    </tr>\n",
       "  </thead>\n",
       "  <tbody>\n",
       "    <tr>\n",
       "      <th>0</th>\n",
       "      <td>1.000000</td>\n",
       "      <td>0.341554</td>\n",
       "    </tr>\n",
       "    <tr>\n",
       "      <th>1</th>\n",
       "      <td>0.341554</td>\n",
       "      <td>1.000000</td>\n",
       "    </tr>\n",
       "  </tbody>\n",
       "</table>\n",
       "</div>"
      ],
      "text/plain": [
       "          0         1\n",
       "0  1.000000  0.341554\n",
       "1  0.341554  1.000000"
      ]
     },
     "execution_count": 174,
     "metadata": {},
     "output_type": "execute_result"
    }
   ],
   "source": [
    "lr.coef_\n",
    "aaa = pd.DataFrame(pmi_one_hot_final.values())\n",
    "aaa\n",
    "bbb = pd.DataFrame(lr.coef_[0][6::])\n",
    "pd.DataFrame(np.append(aaa,bbb, axis = 1)).corr()"
   ]
  },
  {
   "cell_type": "code",
   "execution_count": 176,
   "metadata": {},
   "outputs": [
    {
     "data": {
      "text/plain": [
       "0.0007809628903499234"
      ]
     },
     "execution_count": 176,
     "metadata": {},
     "output_type": "execute_result"
    }
   ],
   "source": [
    "lr.coef_[0]"
   ]
  },
  {
   "cell_type": "markdown",
   "metadata": {},
   "source": [
    "### 5b Inspect the learnt coefficients [2 marks]\n",
    "\n",
    "**Part 1**\n",
    "Inspect the coefficients (weights) learnt by the classifier, and compare them to the PMI values in Question 1. You should update your code above in order to achieve this. Please indicate through comments which parts of the code are relevant to question 5b.\n",
    "\n",
    "**Part 2**\n",
    "What does a high coefficient for a feature imply? For which two features does your model learn the largest coefficients? Compare your answer to the highest PMI features you detected in Q3."
   ]
  },
  {
   "cell_type": "markdown",
   "metadata": {},
   "source": [
    "_Your answer here_"
   ]
  },
  {
   "cell_type": "markdown",
   "metadata": {},
   "source": [
    "## Question 6: Evaluation [1 mark]\n",
    "\n",
    "We will evaluate our baselines and classifiers on the instances in the test set. \n",
    "\n",
    "Compute \n",
    "- accuracy\n",
    "- macro-averaged F1 score \n",
    "\n",
    "for the two baselines, the three NB classifiers and the LR classifier.\n",
    "\n",
    "**You may use existing implementations and/or Python libraries like numpy, scipy or sklearn.**"
   ]
  },
  {
   "cell_type": "code",
   "execution_count": 163,
   "metadata": {},
   "outputs": [
    {
     "name": "stdout",
     "output_type": "stream",
     "text": [
      "Zero R\t\tAccuracy: 0.76\tMacro F1: 0.43\n",
      "One  R\t\tAccuracy: 0.77\tMacro F1: 0.46\n",
      "NB Num \t\tAccuracy: 0.8\tMacro F1: 0.64\n",
      "NB Cat \t\tAccuracy: 0.76\tMacro F1: 0.72\n",
      "NB Full \tAccuracy: 0.79\tMacro F1: 0.64\n",
      "LR \t\tAccuracy: 0.8\tMacro F1: 0.63\n"
     ]
    }
   ],
   "source": [
    "zero_r_acc = 0\n",
    "zero_r_f1 = 0\n",
    "\n",
    "one_r_acc = 0\n",
    "one_r_f1 = 0\n",
    "\n",
    "num_nb_acc = 0\n",
    "num_nb_f1 = 0\n",
    "\n",
    "cat_nb_acc = 0\n",
    "cat_nb_f1 = 0\n",
    "\n",
    "full_nb_acc = 0\n",
    "full_nb_f1 = 0\n",
    "\n",
    "lr_acc = 0\n",
    "lr_f1 = 0\n",
    "\n",
    "############################\n",
    "## your code begins here\n",
    "############################\n",
    "from sklearn.metrics import accuracy_score\n",
    "from sklearn.metrics import f1_score\n",
    "\n",
    "zero_r_acc = accuracy_score(y_test, zero_r_predictions)\n",
    "one_r_acc = accuracy_score(y_test, one_r_predictions)\n",
    "num_nb_acc = accuracy_score(y_test, numeric_nb_predictions)\n",
    "cat_nb_acc = accuracy_score(y_test, categorical_nb_predictions)\n",
    "full_nb_acc = accuracy_score(y_test, full_nb_predictions)\n",
    "lr_acc = accuracy_score(y_test, lr_predictions)\n",
    "\n",
    "zero_r_f1 = f1_score(y_test, zero_r_predictions, average='macro')\n",
    "one_r_f1 = f1_score(y_test, one_r_predictions, average='macro')\n",
    "num_nb_f1 = f1_score(y_test, numeric_nb_predictions, average='macro')\n",
    "cat_nb_f1 = f1_score(y_test, categorical_nb_predictions, average='macro')\n",
    "full_nb_f1 = f1_score(y_test, full_nb_predictions, average='macro')\n",
    "lr_f1 = f1_score(y_test, lr_predictions, average='macro')\n",
    "\n",
    "############################\n",
    "## your code ends here\n",
    "############################\n",
    "\n",
    "print(f\"Zero R\\t\\tAccuracy: {round(zero_r_acc, 2)}\\tMacro F1: {round(zero_r_f1, 2)}\")\n",
    "print(f\"One  R\\t\\tAccuracy: {round(one_r_acc, 2)}\\tMacro F1: {round(one_r_f1, 2)}\")\n",
    "print(f\"NB Num \\t\\tAccuracy: {round(num_nb_acc, 2)}\\tMacro F1: {round(num_nb_f1, 2)}\")\n",
    "print(f\"NB Cat \\t\\tAccuracy: {round(cat_nb_acc, 2)}\\tMacro F1: {round(cat_nb_f1, 2)}\")\n",
    "print(f\"NB Full \\tAccuracy: {round(full_nb_acc, 2)}\\tMacro F1: {round(full_nb_f1, 2)}\")\n",
    "print(f\"LR \\t\\tAccuracy: {round(lr_acc, 2)}\\tMacro F1: {round(lr_f1, 2)}\")"
   ]
  },
  {
   "cell_type": "markdown",
   "metadata": {},
   "source": [
    "## Question 7: Discussion [5 marks]\n",
    "\n",
    "Critically analyze the performance of the models by answering the following questions. \n",
    "\n",
    "**(a)** The three Naive Bayes (NB) classifiers lead to different performance. Which of the three NB classifiers performs best, and why do you think it is the case? **[1 mark]**\n",
    "\n",
    "**(b)** There is a systematic difference between Accuracy and F1 score, across all models. Describe and explain the difference in the context of the data set. **[1 mark]**\n",
    "\n",
    "**(c)** Assume that your best classifier will be deployed in a bank to decide whether a customer will be granted a loan, or not. A loan will be granted if the classifier predicts an income of \">50K\", othewise it won't. The bank manager wants to avoid falsely granting a loan to an applicant with insufficient income by all means. Can you reassure the bank manager with the evaluation results in Q7 that your classifier is adequate? If not, describe an alternative evaluation metric and explain why it is more appropriate.\n",
    "\n",
    "**(d)** Do you observe a clear difference in performance between NB and Logistic Regression (LR) in Q7? Referring to the number of parameters and assumptions underlying each model, provide one reason why NB might outperform LR, and one reason why LR might outperform NB. In your answer, refer back to the *Adult* data set used in this assignment. **[1 mark]**\n",
    "\n",
    "**(e)** Assume that you have access to a (hypothetical) infinitely large U.S. census database (i.e., an enormous version of the *Adult* data set used in this assignment). Is it true that Logistic Regression, but not Naive Bayes, will achieve perfect test set performance? Why (not)? **[1 mark]**\n",
    "\n",
    "<b>We expect a maximum of 2-3 sentences per questinon."
   ]
  },
  {
   "cell_type": "markdown",
   "metadata": {},
   "source": [
    "_Your answer here_\n",
    "\n",
    "(a)NB num onehot features. \n",
    "\n",
    "\n",
    "(b)Accuracy can be used when the class distribution is similar while F1-score is a better metric when there are imbalanced classes as in the above case.\n",
    "In most real-life classification problems, imbalanced class distribution exists and thus F1-score is a better metric to evaluate our model on.\n",
    "\n",
    "\n",
    "(c)\n",
    "\n",
    "\n",
    "(d)\n",
    "\n",
    "\n",
    "(e)false:\n",
    "true:"
   ]
  },
  {
   "cell_type": "code",
   "execution_count": 177,
   "metadata": {},
   "outputs": [
    {
     "data": {
      "text/plain": [
       "Counter({'<=50K': 24684, '>50K': 7841})"
      ]
     },
     "execution_count": 177,
     "metadata": {},
     "output_type": "execute_result"
    }
   ],
   "source": [
    "Counter(y_train)"
   ]
  },
  {
   "cell_type": "markdown",
   "metadata": {},
   "source": [
    "## Final thoughts ...\n",
    "\n",
    "Do you think it is ethical and safe to build and deploy income-level classifiers based on the set of attributes provided with the data set? Could such a classifier do harm if not developed, tested and deployed carefully?\n",
    "\n",
    "When predicting the income of a person, should demographic attributes like 'gender' or 'race' even be considered? Due to historical events there are systematic income differences between men/women and people of different ethnicities. But no doubt these are *correlations* and not factors to be used to *predict* income in the future. \n",
    "\n",
    "But ML models are only as good as their input data: a naively developed ML algorithm will reflect, and often amplify, biases in the data.\n",
    "\n",
    "In the last 1-2 weeks of this subject we will discuss ethics in machine learning and look at questions such as\n",
    "- historical artifacts which lead to biased data sets, and hence potentially biased ML algorithms\n",
    "- how to determine whether an algorithm is indeed biased\n",
    "- how to mitigate bias in the data and in algorithms\n",
    "\n"
   ]
  }
 ],
 "metadata": {
  "kernelspec": {
   "display_name": "Python 3",
   "language": "python",
   "name": "python3"
  },
  "language_info": {
   "codemirror_mode": {
    "name": "ipython",
    "version": 3
   },
   "file_extension": ".py",
   "mimetype": "text/x-python",
   "name": "python",
   "nbconvert_exporter": "python",
   "pygments_lexer": "ipython3",
   "version": "3.8.5"
  }
 },
 "nbformat": 4,
 "nbformat_minor": 4
}
